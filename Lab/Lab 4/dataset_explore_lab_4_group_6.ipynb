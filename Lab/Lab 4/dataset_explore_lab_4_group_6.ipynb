{
  "cells": [
    {
      "cell_type": "markdown",
      "metadata": {
        "id": "view-in-github",
        "colab_type": "text"
      },
      "source": [
        "<a href=\"https://colab.research.google.com/github/ishaqmarashy/BikeConnect/blob/master/Lab/Lab%204/dataset_explore_lab_4_group_6.ipynb\" target=\"_parent\"><img src=\"https://colab.research.google.com/assets/colab-badge.svg\" alt=\"Open In Colab\"/></a>"
      ]
    },
    {
      "cell_type": "code",
      "execution_count": 1,
      "metadata": {
        "id": "YJ8nIh8Pxxfi"
      },
      "outputs": [],
      "source": [
        "import os\n",
        "import requests\n",
        "import zipfile\n",
        "import cv2\n",
        "import numpy as np\n",
        "\n",
        "dataset_url = 'https://github.com/ishaqmarashy/DATALFS/raw/main/JMuBEN.zip'\n",
        "dataset_dir = './JMuBEN'\n",
        "\n",
        "# create directory for dataset if it does not exist\n",
        "if not os.path.exists(dataset_dir):\n",
        "    os.makedirs(dataset_dir)\n",
        "# append JMuBEN.zip to the end of the path (this is where we download the file to)\n",
        "zip_file_path = os.path.join(dataset_dir, 'JMuBEN.zip')\n",
        "\n",
        "# check if file is downloaded already\n",
        "if not os.path.exists(zip_file_path):\n",
        "    # file is not downloaded so fetch the file\n",
        "    response = requests.get(dataset_url)\n",
        "    # write file to storage which is recieved from the response\n",
        "    with open(zip_file_path, 'wb') as zip_file:\n",
        "        zip_file.write(response.content)\n",
        "\n",
        "# unzip to zip file path\n",
        "with zipfile.ZipFile(zip_file_path, 'r') as zip_ref:\n",
        "    zip_ref.extractall(dataset_dir)\n",
        "# within the concat train and test to become ./JMuBEN/train and JMuBEN ./JMuBEN/test\n",
        "train_dir = os.path.join(dataset_dir, 'train')\n",
        "test_dir = os.path.join(dataset_dir, 'test')"
      ]
    },
    {
      "cell_type": "code",
      "execution_count": 2,
      "metadata": {
        "id": "wNVZNNGPpUsJ"
      },
      "outputs": [],
      "source": [
        "def load_images_and_labels(directory):\n",
        "    images = []\n",
        "    labels = []\n",
        "    # get subdirectories Healthy and Miner\n",
        "    for class_name in os.listdir(directory):\n",
        "        # concat subdirectory to get full path\n",
        "        class_dir = os.path.join(directory, class_name)\n",
        "        # assign labels using class subdirectory\n",
        "        # label is determined by filepath\n",
        "        label = 0 if class_name == 'Miner' else 1\n",
        "        # append labels and image paths to labels and images respectively\n",
        "        for filename in os.listdir(class_dir):\n",
        "            images.append(os.path.join(class_dir, filename))\n",
        "            labels.append(label)\n",
        "    return images, labels\n",
        "\n",
        "# load file directories and their labels\n",
        "train_images_dir, train_labels = load_images_and_labels(train_dir)\n",
        "test_images_dir, test_labels = load_images_and_labels(test_dir)"
      ]
    },
    {
      "cell_type": "code",
      "execution_count": 3,
      "metadata": {
        "id": "-wWJu4XIpUsK",
        "outputId": "9445b300-032f-4101-893b-f15e0c764da1",
        "colab": {
          "base_uri": "https://localhost:8080/"
        }
      },
      "outputs": [
        {
          "output_type": "stream",
          "name": "stdout",
          "text": [
            "Train images:24000  Labels:24000\n",
            "Test images:6000  Labels:6000\n"
          ]
        }
      ],
      "source": [
        "from sklearn.model_selection import train_test_split\n",
        "# unnecessary but we can farther split the training data using scikitlearn to smaller test train sets\n",
        "# X_train, X_test, y_train, y_test = train_test_split(train_images_dir, train_labels, test_size=0.2, random_state=42)\n",
        "\n",
        "# print the number of images and labels\n",
        "print(f\"Train images:{len(train_images_dir)}  Labels:{len(train_labels)}\")\n",
        "print(f\"Test images:{len(test_images_dir)}  Labels:{len(test_labels)}\")"
      ]
    },
    {
      "cell_type": "code",
      "source": [
        "import cv2\n",
        "\n",
        "def load_normalize_images(image_paths):\n",
        "    images = []\n",
        "    for image_path in image_paths:\n",
        "      # tried loading as described https://www.analyticsvidhya.com/blog/2021/07/step-by-step-guide-for-image-classification-on-custom-datasets/\n",
        "        img = cv2.imread(image_path, cv2.IMREAD_GRAYSCALE)  #  grayscale\n",
        "        img = cv2.resize(img, (128, 128))  # resize\n",
        "        img = img / 255.0  # normalize\n",
        "        images.append(img)\n",
        "    return np.array(images)\n",
        "\n",
        "train_images=load_normalize_images(train_images_dir)\n",
        "test_images=load_normalize_images(test_images_dir)"
      ],
      "metadata": {
        "id": "6lxOlSPGrUn8"
      },
      "execution_count": 4,
      "outputs": []
    }
  ],
  "metadata": {
    "colab": {
      "provenance": [],
      "include_colab_link": true
    },
    "kernelspec": {
      "display_name": "Python 3",
      "name": "python3"
    },
    "language_info": {
      "codemirror_mode": {
        "name": "ipython",
        "version": 3
      },
      "file_extension": ".py",
      "mimetype": "text/x-python",
      "name": "python",
      "nbconvert_exporter": "python",
      "pygments_lexer": "ipython3",
      "version": "3.11.5"
    }
  },
  "nbformat": 4,
  "nbformat_minor": 0
}